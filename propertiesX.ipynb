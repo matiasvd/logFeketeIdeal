{
 "cells": [
  {
   "cell_type": "markdown",
   "metadata": {},
   "source": [
    "# Properties of dot product matrices $X$\n",
    "\n",
    "12/2024\n",
    "\n",
    "For each kind of critical configuration, given by a dot product matrix $X \\in \\mathbb{C}^{n \\times n}$, it calculates:\n",
    "1. the size of the orbit of $X$ under conjugation by permutation matrices,\n",
    "2. the product energy of $X$,\n",
    "3. the rank of $X$, and\n",
    "4. the eigenvalues of $X$ (could be commented as it may take some time).\n"
   ]
  },
  {
   "cell_type": "markdown",
   "metadata": {},
   "source": [
    "# Packages"
   ]
  },
  {
   "cell_type": "code",
   "execution_count": 1,
   "metadata": {},
   "outputs": [],
   "source": [
    "#############\n",
    "# Packages\n",
    "#############\n",
    "import sympy as sp\n",
    "from itertools import permutations\n",
    "\n",
    "# import numpy as np # numpy\n",
    "# import time\n",
    "# import numpy.linalg as la # for the rank of a matrix\n"
   ]
  },
  {
   "cell_type": "markdown",
   "metadata": {},
   "source": [
    "# Size of the orbit of a dot product matrix $X$ under conjugation\n",
    "\n",
    "* For each permutation matrix $P \\in \\mathbb{R}^{n \\times n}$: if $X = P^T X P$, it increments by one the size of the orbit stabilizer group of $X$.\n",
    "\n",
    "* By the orbit stabilizer theorem: $$ |Orb(X)| = \\frac{n!}{|Stab(X)|} .$$\n"
   ]
  },
  {
   "cell_type": "code",
   "execution_count": 2,
   "metadata": {},
   "outputs": [],
   "source": [
    "#####################\n",
    "# Size of the orbit of the dot product matrix X\n",
    "#####################\n",
    "def orbitSize(X):\n",
    "    (n, n) = sp.shape(X) # number of rows (points)\n",
    "    print('\\nNumber of points n =', n)\n",
    "\n",
    "    perms = list( permutations( range(n) ) ) # permutations of {0,..,n-1}\n",
    "    # print(perms)\n",
    "\n",
    "    Id = sp.eye(n) # identity matrix\n",
    "    \n",
    "    counter = 0 # number of equal permutations of matrix X\n",
    "    for p_ind in perms: # for each permutacion of {0,..,n-1}\n",
    "        P = Id[:, p_ind] # permutes columns of indentity matrix\n",
    "        # print(P) # permutation matrix\n",
    "\n",
    "        if ( X == P.transpose() @ X @ P ) : # applies permutation and compares to matrix X\n",
    "            counter += 1; # increments size of orbit stabilizer\n",
    "         \n",
    "    orbX = sp.factorial(n) / counter; # size of the orbit of X\n",
    "            \n",
    "    print('\\nNumber of different permutations of X:', orbX)\n",
    "\n",
    "    "
   ]
  },
  {
   "cell_type": "markdown",
   "metadata": {},
   "source": [
    "# Product energy associated to a dot product matrix $X$\n",
    "\n",
    "$$ E := \\prod_{0 \\leq i<j \\leq n-1} \\left( 1-x_{ij} \\right) .$$"
   ]
  },
  {
   "cell_type": "code",
   "execution_count": 3,
   "metadata": {},
   "outputs": [
    {
     "name": "stdout",
     "output_type": "stream",
     "text": [
      "\n",
      "Matrix X:\n",
      "Matrix([[1, -1, 1/5], [-1, 1, 1/5], [1/5, 1/5, 1]])\n",
      "\n",
      "Energy associated to X: 32/25\n"
     ]
    }
   ],
   "source": [
    "def prodEnergy(X): # with 0 <= i < j <= n-1\n",
    "    (n, n) = sp.shape(X) # number of rows (points)\n",
    "\n",
    "    E = 1 # initial energy\n",
    "    for i in range(n): # each row\n",
    "        for j in range(i+1,n): # each column j > i\n",
    "            E = E * ( 1 - X[i,j] ) # updates energy\n",
    "    \n",
    "    return E # final energy\n",
    "\n",
    "##########\n",
    "# Test\n",
    "##########\n",
    "\n",
    "# X with known energy, given by: (1+1) * (1-0.2)^2 = 32/25 = 1.28\n",
    "X = sp.Matrix( [ [1, -1, sp.Rational(1,5)], [0, 1, sp.Rational(1,5)], [0, 0, 1] ])\n",
    "\n",
    "# symmetric\n",
    "X = ( X + X.T ) - sp.eye(3)\n",
    "\n",
    "print('\\nMatrix X:')\n",
    "print(X)\n",
    "\n",
    "print('\\nEnergy associated to X:', prodEnergy(X) )\n"
   ]
  },
  {
   "cell_type": "markdown",
   "metadata": {},
   "source": [
    "# Separation distance of each configuration\n",
    "\n",
    "Defined as the minimal distance between each pair of points: $$ d_{\\min} := \\min_{i<j} \\|w_i-w_j\\|_2 .$$"
   ]
  },
  {
   "cell_type": "code",
   "execution_count": 4,
   "metadata": {},
   "outputs": [],
   "source": [
    "def minDist(X): # with 0 <= i < j <= n-1\n",
    "    (n, n) = sp.shape(X) # number of rows (points)\n",
    "\n",
    "    mD = 4 # initial minimal squared distance\n",
    "    for i in range(n): # each row\n",
    "        for j in range(i+1,n): # each column j > i\n",
    "            mD = min( mD, 2*( 1 - X[i,j] ) ) # updates distance\n",
    "    \n",
    "    return sp.sqrt(mD) # final value\n"
   ]
  },
  {
   "cell_type": "code",
   "execution_count": null,
   "metadata": {},
   "outputs": [],
   "source": []
  },
  {
   "cell_type": "markdown",
   "metadata": {},
   "source": [
    "# $n=4$ points"
   ]
  },
  {
   "cell_type": "markdown",
   "metadata": {},
   "source": [
    "## Equator"
   ]
  },
  {
   "cell_type": "code",
   "execution_count": 5,
   "metadata": {},
   "outputs": [
    {
     "name": "stdout",
     "output_type": "stream",
     "text": [
      "\n",
      "**Equator**. Matrix X of dot products:\n",
      "Matrix([[1, 0, -1, 0], [0, 1, 0, -1], [-1, 0, 1, 0], [0, -1, 0, 1]])\n",
      "\n",
      "Number of points n = 4\n",
      "\n",
      "Number of different permutations of X: 3\n",
      "\n",
      "Rank of X: 2\n",
      "\n",
      "Energy associated to X:\n",
      " -- Symbolic expression: 4\n",
      " -- Numerical evaluation: 4.00000000000000\n",
      "\n",
      "Minimal distance between points of X: sqrt(2)\n",
      "-- Numerical value: 1.41421356237310\n"
     ]
    }
   ],
   "source": [
    "##########\n",
    "# Equator (3 permutations)\n",
    "##########\n",
    "X = sp.Matrix( [ [1, 0, -1, 0], [0, 1, 0, -1], [-1, 0, 1, 0 ], [0, -1, 0, 1] ] )\n",
    "\n",
    "print('\\n**Equator**. Matrix X of dot products:')\n",
    "print(X)\n",
    "\n",
    "orbitSize(X) # orbit size\n",
    "\n",
    "print('\\nRank of X:', X.rank())\n",
    "\n",
    "print('\\nEnergy associated to X:')\n",
    "pE = prodEnergy(X)\n",
    "\n",
    "print(' -- Symbolic expression:', pE )\n",
    "print(' -- Numerical evaluation:', sp.N(pE) )\n",
    "\n",
    "mD = minDist(X)\n",
    "print('\\nMinimal distance between points of X:', mD )\n",
    "print('-- Numerical value:', sp.N(mD) )\n"
   ]
  },
  {
   "cell_type": "markdown",
   "metadata": {},
   "source": [
    "## Tetrahedron"
   ]
  },
  {
   "cell_type": "code",
   "execution_count": 6,
   "metadata": {},
   "outputs": [
    {
     "name": "stdout",
     "output_type": "stream",
     "text": [
      "\n",
      "**Tetrahedron**. Matrix X of dot products:\n",
      "Matrix([[1, -1/3, -1/3, -1/3], [-1/3, 1, -1/3, -1/3], [-1/3, -1/3, 1, -1/3], [-1/3, -1/3, -1/3, 1]])\n",
      "\n",
      "Number of points n = 4\n",
      "\n",
      "Number of different permutations of X: 1\n",
      "\n",
      "Rank of X: 3\n",
      "\n",
      "Energy associated to X:\n",
      " -- Symbolic expression: 4096/729\n",
      " -- Numerical evaluation: 5.61865569272977\n",
      "\n",
      "Minimal distance between points of X: 2*sqrt(6)/3\n",
      "-- Numerical value: 1.63299316185545\n"
     ]
    }
   ],
   "source": [
    "##########\n",
    "# Tetrahedron (1 permutation)\n",
    "##########\n",
    "w1 = sp.Matrix( [ [0, 0, 1] ] ) # cartesian coordinates of points on the sphere\n",
    "w2 = sp.Matrix( [ [ ( 2 * sp.sqrt(2) ) / 3, 0, -sp.Rational(1,3) ] ] )\n",
    "w3 = sp.Matrix( [ [ -sp.sqrt(2) / 3, sp.sqrt(6) / 3, -sp.Rational(1,3) ] ] )\n",
    "w4 = sp.Matrix( [ [ -sp.sqrt(2) / 3, -sp.sqrt(6) / 3, -sp.Rational(1,3) ] ] )\n",
    "\n",
    "W = sp.Matrix( [w1, w2, w3, w4] )\n",
    "\n",
    "X = W @ W.T # dot product matrix\n",
    "\n",
    "print('\\n**Tetrahedron**. Matrix X of dot products:')\n",
    "print(X)\n",
    "\n",
    "orbitSize(X) # orbit size\n",
    "\n",
    "print('\\nRank of X:', X.rank())\n",
    "\n",
    "print('\\nEnergy associated to X:')\n",
    "pE = prodEnergy(X)\n",
    "\n",
    "print(' -- Symbolic expression:', pE )\n",
    "print(' -- Numerical evaluation:', sp.N(pE) )\n",
    "\n",
    "mD = minDist(X)\n",
    "print('\\nMinimal distance between points of X:', mD )\n",
    "print('-- Numerical value:', sp.N(mD) )\n"
   ]
  },
  {
   "cell_type": "code",
   "execution_count": null,
   "metadata": {},
   "outputs": [],
   "source": []
  },
  {
   "cell_type": "markdown",
   "metadata": {},
   "source": [
    "# $n=5$ points"
   ]
  },
  {
   "cell_type": "markdown",
   "metadata": {},
   "source": [
    "## Equator"
   ]
  },
  {
   "cell_type": "code",
   "execution_count": 7,
   "metadata": {},
   "outputs": [
    {
     "name": "stdout",
     "output_type": "stream",
     "text": [
      "\n",
      "**Equator**. Matrix X of dot products:\n",
      "Matrix([[1, -1/4 + sqrt(5)/4, -sqrt(5)/4 - 1/4, -sqrt(5)/4 - 1/4, -1/4 + sqrt(5)/4], [-1/4 + sqrt(5)/4, 1, -1/4 + sqrt(5)/4, -sqrt(5)/4 - 1/4, -sqrt(5)/4 - 1/4], [-sqrt(5)/4 - 1/4, -1/4 + sqrt(5)/4, 1, -1/4 + sqrt(5)/4, -sqrt(5)/4 - 1/4], [-sqrt(5)/4 - 1/4, -sqrt(5)/4 - 1/4, -1/4 + sqrt(5)/4, 1, -1/4 + sqrt(5)/4], [-1/4 + sqrt(5)/4, -sqrt(5)/4 - 1/4, -sqrt(5)/4 - 1/4, -1/4 + sqrt(5)/4, 1]])\n",
      "\n",
      "Number of points n = 5\n",
      "\n",
      "Number of different permutations of X: 12\n",
      "\n",
      "Rank of X: 2\n",
      "\n",
      "Energy associated to X:\n",
      " -- Symbolic expression: (5/4 - sqrt(5)/4)**5*(sqrt(5)/4 + 5/4)**5\n",
      " -- Numerical evaluation: 3.05175781250000\n",
      "\n",
      "Minimal distance between points of X: sqrt(5/2 - sqrt(5)/2)\n",
      "-- Numerical value: 1.17557050458495\n"
     ]
    }
   ],
   "source": [
    "##########\n",
    "# Cartesian coordinates of points on the sphere\n",
    "##########\n",
    "n = 5 # number of points\n",
    "\n",
    "Theta = 2 * sp.pi / n # angle between contiguous points\n",
    "W = sp.eye(n,3) # matrix with coordinates of wk in row k\n",
    "for k in range(n):\n",
    "    W[k,:] = sp.Matrix( [ [ sp.cos(k * Theta), sp.sin(k * Theta), 0] ] )\n",
    "\n",
    "# print(W)\n",
    "\n",
    "##########\n",
    "# Equator (12 permutations)\n",
    "##########\n",
    "X = sp.simplify(W * W.T) # dot product matrix\n",
    "\n",
    "# print(sp.N(X)) # numeric\n",
    "\n",
    "print('\\n**Equator**. Matrix X of dot products:')\n",
    "print(X)\n",
    "\n",
    "orbitSize(X) # orbit size\n",
    "\n",
    "print('\\nRank of X:', X.rank())\n",
    "\n",
    "print('\\nEnergy associated to X:')\n",
    "pE = prodEnergy(X)\n",
    "\n",
    "print(' -- Symbolic expression:', pE )\n",
    "print(' -- Numerical evaluation:', sp.N(pE) )\n",
    "\n",
    "mD = minDist(X)\n",
    "print('\\nMinimal distance between points of X:', mD )\n",
    "print('-- Numerical value:', sp.N(mD) )\n"
   ]
  },
  {
   "cell_type": "markdown",
   "metadata": {},
   "source": [
    "## Configuration 1:3:1"
   ]
  },
  {
   "cell_type": "code",
   "execution_count": 8,
   "metadata": {},
   "outputs": [
    {
     "name": "stdout",
     "output_type": "stream",
     "text": [
      "\n",
      "**1:3:1**. Matrix X of dot products:\n",
      "Matrix([[1, -1, 0, 0, 0], [-1, 1, 0, 0, 0], [0, 0, 1, -1/2, -1/2], [0, 0, -1/2, 1, -1/2], [0, 0, -1/2, -1/2, 1]])\n",
      "\n",
      "Number of points n = 5\n",
      "\n",
      "Number of different permutations of X: 10\n",
      "\n",
      "Rank of X: 3\n",
      "\n",
      "Energy associated to X:\n",
      " -- Symbolic expression: 27/4\n",
      " -- Numerical evaluation: 6.75000000000000\n",
      "\n",
      "Minimal distance between points of X: sqrt(2)\n",
      "-- Numerical value: 1.41421356237310\n"
     ]
    }
   ],
   "source": [
    "##########\n",
    "# Configuration 1:3:1 (10)\n",
    "##########\n",
    "A = -sp.Rational(1, 2)\n",
    "X = sp.Matrix( [\n",
    "    [1, -1, 0, 0, 0],\n",
    "    [-1, 1, 0, 0, 0],\n",
    "    [0, 0, 1, A, A],\n",
    "    [0, 0, A, 1, A],\n",
    "    [0, 0, A, A, 1]\n",
    "] )\n",
    "\n",
    "print('\\n**1:3:1**. Matrix X of dot products:')\n",
    "print(X)\n",
    "\n",
    "orbitSize(X) # orbit size\n",
    "\n",
    "print('\\nRank of X:', X.rank())\n",
    "\n",
    "print('\\nEnergy associated to X:')\n",
    "pE = prodEnergy(X)\n",
    "\n",
    "print(' -- Symbolic expression:', pE )\n",
    "print(' -- Numerical evaluation:', sp.N(pE) )\n",
    "\n",
    "mD = minDist(X)\n",
    "print('\\nMinimal distance between points of X:', mD )\n",
    "print('-- Numerical value:', sp.N(mD) )\n"
   ]
  },
  {
   "cell_type": "markdown",
   "metadata": {},
   "source": [
    "## Configuration 1:4"
   ]
  },
  {
   "cell_type": "code",
   "execution_count": 9,
   "metadata": {},
   "outputs": [
    {
     "name": "stdout",
     "output_type": "stream",
     "text": [
      "Matrix([[0, 0, 1], [0, sqrt(15)/4, -1/4], [-sqrt(15)/4, 0, -1/4], [0, -sqrt(15)/4, -1/4], [sqrt(15)/4, 0, -1/4]])\n",
      "\n",
      "Minimal distance between points of X: sqrt(30)/4\n",
      "-- Numerical value: 1.36930639376292\n"
     ]
    }
   ],
   "source": [
    "##########\n",
    "# Cartesian coordinates of points on the sphere\n",
    "##########\n",
    "n = 5 # number of points\n",
    "\n",
    "z0 = -sp.Rational(1, n-1) # height of the plane with n-1 points equidistirbuted\n",
    "R = sp.sqrt( 1 - z0**2 ) # radius of cricle at height z\n",
    "\n",
    "Theta = 2 * sp.pi / (n-1) # angle between contiguous points\n",
    "\n",
    "W = sp.eye(n,3) # matrix with coordinates of wk in row k\n",
    "W[0,:] = sp.Matrix( [ [0, 0, 1] ] ) # north pole\n",
    "\n",
    "# n-1 equidistributed points at z=z0\n",
    "for k in range(1,n):\n",
    "    W[k,:] = sp.Matrix( [ [ R * sp.cos(k * Theta), R * sp.sin(k * Theta), z0] ] )\n",
    "\n",
    "print(W)\n",
    "\n",
    "X = sp.simplify(W * W.T) # dot product matrix\n",
    "X\n",
    "\n",
    "mD = minDist(X)\n",
    "print('\\nMinimal distance between points of X:', mD )\n",
    "print('-- Numerical value:', sp.N(mD) )\n"
   ]
  },
  {
   "cell_type": "code",
   "execution_count": 10,
   "metadata": {},
   "outputs": [
    {
     "name": "stdout",
     "output_type": "stream",
     "text": [
      "\n",
      "**1:4**. Matrix X of dot products:\n",
      "Matrix([[1, -1/4, -1/4, -1/4, -1/4], [-1/4, 1, 1/16, -7/8, 1/16], [-1/4, 1/16, 1, 1/16, -7/8], [-1/4, -7/8, 1/16, 1, 1/16], [-1/4, 1/16, -7/8, 1/16, 1]])\n",
      "\n",
      "Number of points n = 5\n",
      "\n",
      "Number of different permutations of X: 15\n",
      "\n",
      "Rank of X: 3\n",
      "\n",
      "Energy associated to X:\n",
      " -- Symbolic expression: 7119140625/1073741824\n",
      " -- Numerical evaluation: 6.63021637592465\n",
      "\n",
      "Minimal distance between points of X: sqrt(30)/4\n",
      "-- Numerical value: 1.36930639376292\n"
     ]
    }
   ],
   "source": [
    "##########\n",
    "# Dot product matrix (15 permutations)\n",
    "##########\n",
    "A = -sp.Rational(1, 4)\n",
    "B = sp.Rational(1, 16)\n",
    "C = -sp.Rational(7, 8)\n",
    "\n",
    "X = sp.Matrix( [\n",
    "    [1, A, A, A, A],\n",
    "    [A, 1, B, C, B],\n",
    "    [A, B, 1, B, C],\n",
    "    [A, C, B, 1, B],\n",
    "    [A, B, C, B, 1]\n",
    "] )\n",
    "\n",
    "print('\\n**1:4**. Matrix X of dot products:')\n",
    "print(X)\n",
    "\n",
    "orbitSize(X) # orbit size\n",
    "\n",
    "print('\\nRank of X:', X.rank())\n",
    "\n",
    "print('\\nEnergy associated to X:')\n",
    "pE = prodEnergy(X)\n",
    "\n",
    "print(' -- Symbolic expression:', pE )\n",
    "print(' -- Numerical evaluation:', sp.N(pE) )\n",
    "\n",
    "mD = minDist(X)\n",
    "print('\\nMinimal distance between points of X:', mD )\n",
    "print('-- Numerical value:', sp.N(mD) )\n"
   ]
  },
  {
   "cell_type": "markdown",
   "metadata": {},
   "source": [
    "# 4-simplex in $S^3$"
   ]
  },
  {
   "cell_type": "code",
   "execution_count": 12,
   "metadata": {},
   "outputs": [
    {
     "name": "stdout",
     "output_type": "stream",
     "text": [
      "\n",
      "**4-simplex**. Matrix X of dot products:\n",
      "Matrix([[1, -1/4, -1/4, -1/4, -1/4], [-1/4, 1, -1/4, -1/4, -1/4], [-1/4, -1/4, 1, -1/4, -1/4], [-1/4, -1/4, -1/4, 1, -1/4], [-1/4, -1/4, -1/4, -1/4, 1]])\n",
      "\n",
      "Number of points n = 5\n",
      "\n",
      "Number of different permutations of X: 1\n",
      "\n",
      "Rank of X: 4\n",
      "\n",
      "Energy associated to X:\n",
      " -- Symbolic expression: 9765625/1048576\n",
      " -- Numerical evaluation: 9.31322574615479\n",
      "\n",
      "Minimal distance between points of X: sqrt(10)/2\n",
      "-- Numerical value: 1.58113883008419\n"
     ]
    }
   ],
   "source": [
    "n = 5\n",
    "\n",
    "t = -sp.Rational(1, n-1) # t=-1/(n-1)\n",
    "\n",
    "X = sp.Matrix( [\n",
    "    [1, t, t, t, t],\n",
    "    [t, 1, t, t, t],\n",
    "    [t, t, 1, t, t],\n",
    "    [t, t, t, 1, t],\n",
    "    [t, t, t, t, 1]\n",
    "] )\n",
    "\n",
    "print('\\n**4-simplex**. Matrix X of dot products:')\n",
    "print(X)\n",
    "\n",
    "orbitSize(X) # orbit size\n",
    "\n",
    "print('\\nRank of X:', X.rank() )\n",
    "\n",
    "print('\\nEnergy associated to X:')\n",
    "pE = prodEnergy(X)\n",
    "\n",
    "print(' -- Symbolic expression:', pE )\n",
    "print(' -- Numerical evaluation:', sp.N(pE) )\n",
    "\n",
    "mD = minDist(X)\n",
    "print('\\nMinimal distance between points of X:', mD )\n",
    "print('-- Numerical value:', sp.N(mD) )\n",
    "\n"
   ]
  },
  {
   "cell_type": "code",
   "execution_count": null,
   "metadata": {},
   "outputs": [],
   "source": []
  },
  {
   "cell_type": "markdown",
   "metadata": {},
   "source": [
    "# $n=6$ points"
   ]
  },
  {
   "cell_type": "markdown",
   "metadata": {},
   "source": [
    "## Equator"
   ]
  },
  {
   "cell_type": "code",
   "execution_count": 13,
   "metadata": {},
   "outputs": [
    {
     "name": "stdout",
     "output_type": "stream",
     "text": [
      "\n",
      "**Equator**\n",
      "\n",
      "Matrix X of dot products:\n",
      "Matrix([[1, 1/2, -1/2, -1, -1/2, 1/2], [1/2, 1, 1/2, -1/2, -1, -1/2], [-1/2, 1/2, 1, 1/2, -1/2, -1], [-1, -1/2, 1/2, 1, 1/2, -1/2], [-1/2, -1, -1/2, 1/2, 1, 1/2], [1/2, -1/2, -1, -1/2, 1/2, 1]])\n",
      "\n",
      "Number of points n = 6\n",
      "\n",
      "Number of different permutations of X: 60\n",
      "\n",
      "Rank of X: 2\n",
      "\n",
      "Energy associated to X:\n",
      " -- Symbolic expression: 729/512\n",
      " -- Numerical evaluation: 1.42382812500000\n",
      "\n",
      "Eigenvalues of X:\n",
      "{3: 2, 0: 4}\n",
      "\n",
      "Minimal distance between points of X: 1\n",
      "-- Numerical value: 1.00000000000000\n"
     ]
    }
   ],
   "source": [
    "##########\n",
    "# Equator (60)\n",
    "##########\n",
    "A = sp.Rational(1, 2) # 6 times\n",
    "B = -sp.Rational(1, 2) # 6 times\n",
    "C = -1 # 3 times\n",
    "\n",
    "X = sp.Matrix( [\n",
    "    [1, A, B, C, B, A],\n",
    "    [A, 1, A, B, C, B],\n",
    "    [B, A, 1, A, B, C],\n",
    "    [C, B, A, 1, A, B],\n",
    "    [B, C, B, A, 1, A],\n",
    "    [ A, B, C, B, A, 1]\n",
    "] )\n",
    "\n",
    "print('\\n**Equator**')\n",
    "\n",
    "print('\\nMatrix X of dot products:')\n",
    "print(X)\n",
    "\n",
    "orbitSize(X) # orbit size\n",
    "\n",
    "print('\\nRank of X:', X.rank())\n",
    "\n",
    "print('\\nEnergy associated to X:')\n",
    "pE = prodEnergy(X)\n",
    "\n",
    "print(' -- Symbolic expression:', pE )\n",
    "print(' -- Numerical evaluation:', sp.N(pE) )\n",
    "\n",
    "print('\\nEigenvalues of X:')\n",
    "print( X.eigenvals() )\n",
    "\n",
    "mD = minDist(X)\n",
    "print('\\nMinimal distance between points of X:', mD )\n",
    "print('-- Numerical value:', sp.N(mD) )\n"
   ]
  },
  {
   "cell_type": "markdown",
   "metadata": {},
   "source": [
    "## Configuration 1:4:1"
   ]
  },
  {
   "cell_type": "code",
   "execution_count": 14,
   "metadata": {},
   "outputs": [
    {
     "name": "stdout",
     "output_type": "stream",
     "text": [
      "\n",
      "Configuration 1:4:1\n",
      "\n",
      "Matrix X of dot products:\n",
      "Matrix([[1, -1, 0, 0, 0, 0], [-1, 1, 0, 0, 0, 0], [0, 0, 1, 0, -1, 0], [0, 0, 0, 1, 0, -1], [0, 0, -1, 0, 1, 0], [0, 0, 0, -1, 0, 1]])\n",
      "\n",
      "Number of points n = 6\n",
      "\n",
      "Number of different permutations of X: 15\n",
      "\n",
      "Rank of X: 3\n",
      "\n",
      "Energy associated to X:\n",
      " -- Symbolic expression: 8\n",
      " -- Numerical evaluation: 8.00000000000000\n",
      "\n",
      "Eigenvalues of X:\n",
      "{2: 3, 0: 3}\n",
      "\n",
      "Minimal distance between points of X: sqrt(2)\n",
      "\n",
      "Minimal distance between points of X: sqrt(2)\n",
      "-- Numerical value: 1.41421356237310\n"
     ]
    }
   ],
   "source": [
    "##########\n",
    "# Configuration 1-4-1 (15 permutations)\n",
    "##########\n",
    "A = -1\n",
    "\n",
    "X = sp.Matrix( [\n",
    "    [1, A, 0, 0, 0, 0],\n",
    "    [A, 1, 0, 0, 0, 0],\n",
    "    [0, 0, 1, 0, A, 0],\n",
    "    [0, 0, 0, 1, 0, A],\n",
    "    [0, 0, A, 0, 1, 0],\n",
    "    [0, 0, 0, A, 0, 1]\n",
    "] )\n",
    "\n",
    "print('\\nConfiguration 1:4:1')\n",
    "\n",
    "print('\\nMatrix X of dot products:')\n",
    "print(X)\n",
    "\n",
    "orbitSize(X) # orbit size\n",
    "\n",
    "print('\\nRank of X:', X.rank())\n",
    "\n",
    "print('\\nEnergy associated to X:')\n",
    "pE = prodEnergy(X)\n",
    "\n",
    "print(' -- Symbolic expression:', pE )\n",
    "print(' -- Numerical evaluation:', sp.N(pE) )\n",
    "\n",
    "print('\\nEigenvalues of X:')\n",
    "print( X.eigenvals() )\n",
    "\n",
    "print('\\nMinimal distance between points of X:', minDist(X) )\n",
    "\n",
    "mD = minDist(X)\n",
    "print('\\nMinimal distance between points of X:', mD )\n",
    "print('-- Numerical value:', sp.N(mD) )\n"
   ]
  },
  {
   "cell_type": "markdown",
   "metadata": {},
   "source": [
    "## Configuration 1:5"
   ]
  },
  {
   "cell_type": "code",
   "execution_count": 15,
   "metadata": {},
   "outputs": [
    {
     "name": "stdout",
     "output_type": "stream",
     "text": [
      "\n",
      "Configuration 1:5\n",
      "\n",
      "Matrix X of dot products:\n",
      "Matrix([[1, -1/5, -1/5, -1/5, -1/5, -1/5], [-1/5, 1, -1/5 + 6*sqrt(5)/25, -6*sqrt(5)/25 - 1/5, -6*sqrt(5)/25 - 1/5, -1/5 + 6*sqrt(5)/25], [-1/5, -1/5 + 6*sqrt(5)/25, 1, -1/5 + 6*sqrt(5)/25, -6*sqrt(5)/25 - 1/5, -6*sqrt(5)/25 - 1/5], [-1/5, -6*sqrt(5)/25 - 1/5, -1/5 + 6*sqrt(5)/25, 1, -1/5 + 6*sqrt(5)/25, -6*sqrt(5)/25 - 1/5], [-1/5, -6*sqrt(5)/25 - 1/5, -6*sqrt(5)/25 - 1/5, -1/5 + 6*sqrt(5)/25, 1, -1/5 + 6*sqrt(5)/25], [-1/5, -1/5 + 6*sqrt(5)/25, -6*sqrt(5)/25 - 1/5, -6*sqrt(5)/25 - 1/5, -1/5 + 6*sqrt(5)/25, 1]])\n",
      "\n",
      "Number of points n = 6\n",
      "\n",
      "Number of different permutations of X: 72\n",
      "\n",
      "Rank of X: 3\n",
      "\n",
      "Energy associated to X:\n",
      " -- Symbolic expression: (6/5 - 6*sqrt(5)/25)**4*(46656/15625 - 46656*sqrt(5)/78125)*(6*sqrt(5)/25 + 6/5)**5\n",
      " -- Numerical evaluation: 5.04857282956046\n",
      "\n",
      "Eigenvalues of X:\n",
      "{6/5: 1, 12/5: 2, 0: 3}\n",
      "\n",
      "Minimal distance between points of X: sqrt(12/5 - 12*sqrt(5)/25)\n",
      "\n",
      "Minimal distance between points of X: sqrt(12/5 - 12*sqrt(5)/25)\n",
      "-- Numerical value: 1.15181915715971\n"
     ]
    }
   ],
   "source": [
    "##########\n",
    "# Configuration 1:5 (72 permutations)\n",
    "##########\n",
    "A = -sp.Rational(1, 5) # -0.2 # 5 veces\n",
    "B = ( -5 + 6 * sp.sqrt(5) ) / 25 # 0.337  # 5 veces\n",
    "C = ( -5 - 6 * sp.sqrt(5) ) / 25 # -0.737  # 5 veces\n",
    "\n",
    "X = sp.Matrix( [\n",
    "    [1, A, A, A, A, A],\n",
    "    [A, 1, B, C, C, B],\n",
    "    [A, B, 1, B, C, C],\n",
    "    [A, C, B, 1, B, C],\n",
    "    [A, C, C, B, 1, B],\n",
    "    [A, B, C, C, B, 1]\n",
    "] )\n",
    "\n",
    "print('\\nConfiguration 1:5')\n",
    "\n",
    "print('\\nMatrix X of dot products:')\n",
    "print(X)\n",
    "\n",
    "orbitSize(X) # orbit size\n",
    "\n",
    "print('\\nRank of X:', X.rank())\n",
    "\n",
    "print('\\nEnergy associated to X:')\n",
    "pE = prodEnergy(X)\n",
    "\n",
    "print(' -- Symbolic expression:', pE )\n",
    "print(' -- Numerical evaluation:', sp.N(pE) )\n",
    "\n",
    "print('\\nEigenvalues of X:')\n",
    "print( X.eigenvals() )\n",
    "\n",
    "print('\\nMinimal distance between points of X:', minDist(X) )\n",
    "\n",
    "mD = minDist(X)\n",
    "print('\\nMinimal distance between points of X:', mD )\n",
    "print('-- Numerical value:', sp.N(mD) )\n"
   ]
  },
  {
   "cell_type": "markdown",
   "metadata": {},
   "source": [
    "## Configuration 3:3 with null phase shift"
   ]
  },
  {
   "cell_type": "code",
   "execution_count": 16,
   "metadata": {},
   "outputs": [
    {
     "name": "stdout",
     "output_type": "stream",
     "text": [
      "\n",
      "Configuration 3:3 with null phase\n",
      "\n",
      "Matrix X of dot products:\n",
      "Matrix([[1, -7/5 + 3*sqrt(6)/5, -7/5 + 3*sqrt(6)/5, 11/5 - 4*sqrt(6)/5, -sqrt(6)/5 - 1/5, -sqrt(6)/5 - 1/5], [-7/5 + 3*sqrt(6)/5, 1, -7/5 + 3*sqrt(6)/5, -sqrt(6)/5 - 1/5, 11/5 - 4*sqrt(6)/5, -sqrt(6)/5 - 1/5], [-7/5 + 3*sqrt(6)/5, -7/5 + 3*sqrt(6)/5, 1, -sqrt(6)/5 - 1/5, -sqrt(6)/5 - 1/5, 11/5 - 4*sqrt(6)/5], [11/5 - 4*sqrt(6)/5, -sqrt(6)/5 - 1/5, -sqrt(6)/5 - 1/5, 1, -7/5 + 3*sqrt(6)/5, -7/5 + 3*sqrt(6)/5], [-sqrt(6)/5 - 1/5, 11/5 - 4*sqrt(6)/5, -sqrt(6)/5 - 1/5, -7/5 + 3*sqrt(6)/5, 1, -7/5 + 3*sqrt(6)/5], [-sqrt(6)/5 - 1/5, -sqrt(6)/5 - 1/5, 11/5 - 4*sqrt(6)/5, -7/5 + 3*sqrt(6)/5, -7/5 + 3*sqrt(6)/5, 1]])\n",
      "\n",
      "Number of points n = 6\n",
      "\n",
      "Number of different permutations of X: 60\n",
      "\n",
      "Rank of X: 3\n",
      "\n",
      "Energy associated to X:\n",
      " -- Symbolic expression: (-6/5 + 4*sqrt(6)/5)**3*(12/5 - 3*sqrt(6)/5)**6*(sqrt(6)/5 + 6/5)**6\n",
      " -- Numerical evaluation: 6.61696793027720\n",
      "\n",
      "Minimal distance between points of X: sqrt(-12/5 + 8*sqrt(6)/5)\n",
      "-- Numerical value: 1.23255165751910\n"
     ]
    }
   ],
   "source": [
    "##########\n",
    "# Configuration 3:3 with null phase (60 permutations)\n",
    "##########\n",
    "A = ( 11 - 4 * sp.sqrt(6) ) / 5 # 0.240 # 3 veces\n",
    "B = ( -1 - sp.sqrt(6) ) / 5 # -0.690 # 6 veces\n",
    "C = ( -7 + 3 * sp.sqrt(6) ) / 5 # 0.0697 # 6 veces\n",
    "\n",
    "X = sp.Matrix( [\n",
    "    [1, C, C, A, B, B],\n",
    "    [C, 1, C, B, A, B],\n",
    "    [C, C, 1, B, B, A],\n",
    "    [A, B, B, 1, C, C],\n",
    "    [B, A, B, C, 1, C],\n",
    "    [B, B, A, C, C, 1]\n",
    "] )\n",
    "\n",
    "print('\\nConfiguration 3:3 with null phase')\n",
    "\n",
    "print('\\nMatrix X of dot products:')\n",
    "print(X)\n",
    "\n",
    "orbitSize(X) # orbit size\n",
    "\n",
    "print('\\nRank of X:', X.rank())\n",
    "\n",
    "print('\\nEnergy associated to X:')\n",
    "pE = prodEnergy(X)\n",
    "\n",
    "print(' -- Symbolic expression:', pE )\n",
    "print(' -- Numerical evaluation:', sp.N(pE) )\n",
    "\n",
    "# print('\\nEigenvalues of X:')\n",
    "# eigsX = X.eigenvals() # takes some time\n",
    "\n",
    "# for eX in eigsX:\n",
    "#     print(sp.N(eX)) # $\\simeq 2.278 (\\times 1)$, $\\simeq 1.86 (\\times 2)$\n",
    "\n",
    "#     print('\\nReal part:', sp.simplify( sp.re(eX) ) )\n",
    "#     print('Imaginary part:', sp.simplify( sp.im(eX) ) )\n",
    "\n",
    "mD = minDist(X)\n",
    "print('\\nMinimal distance between points of X:', mD )\n",
    "print('-- Numerical value:', sp.N(mD) )\n"
   ]
  },
  {
   "cell_type": "markdown",
   "metadata": {},
   "source": [
    "## Configuration 3:3 with null phase shift (real conjugate)\n",
    "\n",
    "Same as 3:3 but changing $\\sqrt{6}$ by $-\\sqrt{6}$"
   ]
  },
  {
   "cell_type": "code",
   "execution_count": 17,
   "metadata": {},
   "outputs": [
    {
     "name": "stdout",
     "output_type": "stream",
     "text": [
      "\n",
      "Real conjugate of Configuration 3:3 with null phase\n",
      "\n",
      "Matrix X of dot products:\n",
      "Matrix([[1, -3*sqrt(6)/5 - 7/5, -3*sqrt(6)/5 - 7/5, 4*sqrt(6)/5 + 11/5, -1/5 + sqrt(6)/5, -1/5 + sqrt(6)/5], [-3*sqrt(6)/5 - 7/5, 1, -3*sqrt(6)/5 - 7/5, -1/5 + sqrt(6)/5, 4*sqrt(6)/5 + 11/5, -1/5 + sqrt(6)/5], [-3*sqrt(6)/5 - 7/5, -3*sqrt(6)/5 - 7/5, 1, -1/5 + sqrt(6)/5, -1/5 + sqrt(6)/5, 4*sqrt(6)/5 + 11/5], [4*sqrt(6)/5 + 11/5, -1/5 + sqrt(6)/5, -1/5 + sqrt(6)/5, 1, -3*sqrt(6)/5 - 7/5, -3*sqrt(6)/5 - 7/5], [-1/5 + sqrt(6)/5, 4*sqrt(6)/5 + 11/5, -1/5 + sqrt(6)/5, -3*sqrt(6)/5 - 7/5, 1, -3*sqrt(6)/5 - 7/5], [-1/5 + sqrt(6)/5, -1/5 + sqrt(6)/5, 4*sqrt(6)/5 + 11/5, -3*sqrt(6)/5 - 7/5, -3*sqrt(6)/5 - 7/5, 1]])\n",
      "\n",
      "Number of points n = 6\n",
      "\n",
      "Number of different permutations of X: 60\n",
      "\n",
      "Rank of X: 3\n",
      "\n",
      "Energy associated to X:\n",
      " -- Symbolic expression: (6/5 - sqrt(6)/5)**6*(-4*sqrt(6)/5 - 6/5)**3*(3*sqrt(6)/5 + 12/5)**6\n",
      " -- Numerical evaluation: -13579.2935328951\n",
      "\n",
      "Minimal distance between points of X: sqrt(-8*sqrt(6)/5 - 12/5)\n",
      "-- Numerical value: 2.51379863721283*I\n"
     ]
    }
   ],
   "source": [
    "##########\n",
    "# Configuration 3:3 with null phase (real conjugate) (60 permutations)\n",
    "##########\n",
    "A = ( 11 + 4 * sp.sqrt(6) ) / 5 # 0.240 # 3 veces\n",
    "B = ( -1 + sp.sqrt(6) ) / 5 # -0.690 # 6 veces\n",
    "C = ( -7 - 3 * sp.sqrt(6) ) / 5 # 0.0697 # 6 veces\n",
    "\n",
    "X = sp.Matrix( [\n",
    "    [1, C, C, A, B, B],\n",
    "    [C, 1, C, B, A, B],\n",
    "    [C, C, 1, B, B, A],\n",
    "    [A, B, B, 1, C, C],\n",
    "    [B, A, B, C, 1, C],\n",
    "    [B, B, A, C, C, 1]\n",
    "] )\n",
    "\n",
    "print('\\nReal conjugate of Configuration 3:3 with null phase')\n",
    "\n",
    "print('\\nMatrix X of dot products:')\n",
    "print(X)\n",
    "\n",
    "orbitSize(X) # orbit size\n",
    "\n",
    "print('\\nRank of X:', X.rank())\n",
    "\n",
    "print('\\nEnergy associated to X:')\n",
    "pE = prodEnergy(X)\n",
    "\n",
    "print(' -- Symbolic expression:', pE )\n",
    "print(' -- Numerical evaluation:', sp.N(pE) )\n",
    "\n",
    "# print('\\nEigenvalues of X:')\n",
    "# eigsX = X.eigenvals() # takes some time\n",
    "\n",
    "# for eX in eigsX:\n",
    "#     print( sp.N(eX) ) # $\\simeq -9.48 (\\times 1)$, $\\simeq 7.74 (\\times 2)$\n",
    "\n",
    "    # the following commands give 0 real and imaginary part. Should not.\n",
    "    # print('\\nReal part:', sp.simplify( sp.re(eX) ) )\n",
    "    # print('Imaginary part:', sp.simplify( sp.im(eX) ) )\n",
    "\n",
    "mD = minDist(X)\n",
    "print('\\nMinimal distance between points of X:', mD )\n",
    "print('-- Numerical value:', sp.N(mD) )\n"
   ]
  },
  {
   "cell_type": "code",
   "execution_count": null,
   "metadata": {},
   "outputs": [],
   "source": []
  },
  {
   "cell_type": "markdown",
   "metadata": {},
   "source": [
    "## Solutions with at least one complex coordinate"
   ]
  },
  {
   "cell_type": "markdown",
   "metadata": {},
   "source": [
    "## Configuration with coordinate 1/5 or -7/5 (Complex 1)"
   ]
  },
  {
   "cell_type": "code",
   "execution_count": 19,
   "metadata": {},
   "outputs": [
    {
     "name": "stdout",
     "output_type": "stream",
     "text": [
      "sqrt(5)*I/5\n",
      "\n",
      "Configuration with coordinate 1/5 or -7/5 (Complex 1)\n",
      "\n",
      "Matrix X of dot products:\n",
      "Matrix([[1, -1, -sqrt(5)*I/5, sqrt(5)*I/5, sqrt(5)*I/5, -sqrt(5)*I/5], [-1, 1, sqrt(5)*I/5, -sqrt(5)*I/5, -sqrt(5)*I/5, sqrt(5)*I/5], [-sqrt(5)*I/5, sqrt(5)*I/5, 1, 1/5, 1/5, -7/5], [sqrt(5)*I/5, -sqrt(5)*I/5, 1/5, 1, -7/5, 1/5], [sqrt(5)*I/5, -sqrt(5)*I/5, 1/5, -7/5, 1, 1/5], [-sqrt(5)*I/5, sqrt(5)*I/5, -7/5, 1/5, 1/5, 1]])\n",
      "\n",
      "Number of points n = 6\n",
      "\n",
      "Number of different permutations of X: 90\n",
      "\n",
      "Rank of X: 3\n",
      "\n",
      "Energy associated to X:\n",
      " -- Symbolic expression: 36864*(1 - sqrt(5)*I/5)**4*(1 + sqrt(5)*I/5)**3*(2 + 2*sqrt(5)*I/5)/15625\n",
      " -- Numerical evaluation: 9.7844723712 - 5.42101086242752e-20*I\n",
      "\n",
      "Eigenvalues of X:\n",
      "{6/5: 1, 12/5: 2, 0: 3}\n"
     ]
    }
   ],
   "source": [
    "##########\n",
    "# Configuration with coordinate 1/5 or -7/5 (90x2 = 180)\n",
    "##########\n",
    "\n",
    "A = sp.I / sp.sqrt(5) # +-A is solution\n",
    "B = sp.Rational(1, 5)\n",
    "C = -sp.Rational(7, 5)\n",
    "\n",
    "X = sp.Matrix( [\n",
    "    [1, -1, -A, A, A, -A ],\n",
    "    [-1, 1, A, -A, -A, A ],\n",
    "    [-A, A, 1, B, B, C ],\n",
    "    [A, -A, B, 1, C , B ],\n",
    "    [A, -A, B, C, 1, B ],\n",
    "    [-A, A, C, B, B, 1 ]\n",
    "] ) #, dtype='complex' )\n",
    "\n",
    "print(A)\n",
    "\n",
    "print('\\nConfiguration with coordinate 1/5 or -7/5 (Complex 1)')\n",
    "\n",
    "print('\\nMatrix X of dot products:')\n",
    "print(X)\n",
    "\n",
    "orbitSize(X) # orbit size\n",
    "\n",
    "print('\\nRank of X:', X.rank())\n",
    "\n",
    "print('\\nEnergy associated to X:')\n",
    "pE = prodEnergy(X)\n",
    "\n",
    "print(' -- Symbolic expression:', pE )\n",
    "print(' -- Numerical evaluation:', sp.N(pE) )\n",
    "\n",
    "print('\\nEigenvalues of X:')\n",
    "eigsX = X.eigenvals()\n",
    "print(eigsX)\n"
   ]
  },
  {
   "cell_type": "markdown",
   "metadata": {},
   "source": [
    "## Configuration with coordinate $25 x_{45}^2 + 28 x_{45} + 19 = 0$ (Complex 2)"
   ]
  },
  {
   "cell_type": "code",
   "execution_count": 23,
   "metadata": {},
   "outputs": [
    {
     "name": "stdout",
     "output_type": "stream",
     "text": [
      "\n",
      "Configuration with coordinate 25*x45^2+28*x45+19=0 (Complex 2)\n",
      "\n",
      "Matrix X of dot products:\n",
      "Matrix([[1, -61/200 + 3*sqrt(31)*I/200 - 3*sqrt(118 - 14*sqrt(31)*I)/50, -19/80 - 3*sqrt(31)*I/80 - 3*sqrt(226 + 2*sqrt(31)*I)/80, -19/80 - 3*sqrt(31)*I/80 + 3*sqrt(226 + 2*sqrt(31)*I)/80, -11/100 + 3*sqrt(118 - 14*sqrt(31)*I)/100 + 3*sqrt(31)*I/100, -11/100 + 3*sqrt(118 - 14*sqrt(31)*I)/100 + 3*sqrt(31)*I/100], [-61/200 + 3*sqrt(31)*I/200 - 3*sqrt(118 - 14*sqrt(31)*I)/50, 1, -19/80 - 3*sqrt(31)*I/80 + 3*sqrt(226 + 2*sqrt(31)*I)/80, -19/80 - 3*sqrt(31)*I/80 - 3*sqrt(226 + 2*sqrt(31)*I)/80, -11/100 + 3*sqrt(118 - 14*sqrt(31)*I)/100 + 3*sqrt(31)*I/100, -11/100 + 3*sqrt(118 - 14*sqrt(31)*I)/100 + 3*sqrt(31)*I/100], [-19/80 - 3*sqrt(31)*I/80 - 3*sqrt(226 + 2*sqrt(31)*I)/80, -19/80 - 3*sqrt(31)*I/80 + 3*sqrt(226 + 2*sqrt(31)*I)/80, 1, -61/200 + 3*sqrt(118 - 14*sqrt(31)*I)/50 + 3*sqrt(31)*I/200, -11/100 - 3*sqrt(118 - 14*sqrt(31)*I)/100 + 3*sqrt(31)*I/100, -11/100 - 3*sqrt(118 - 14*sqrt(31)*I)/100 + 3*sqrt(31)*I/100], [-19/80 - 3*sqrt(31)*I/80 + 3*sqrt(226 + 2*sqrt(31)*I)/80, -19/80 - 3*sqrt(31)*I/80 - 3*sqrt(226 + 2*sqrt(31)*I)/80, -61/200 + 3*sqrt(118 - 14*sqrt(31)*I)/50 + 3*sqrt(31)*I/200, 1, -11/100 - 3*sqrt(118 - 14*sqrt(31)*I)/100 + 3*sqrt(31)*I/100, -11/100 - 3*sqrt(118 - 14*sqrt(31)*I)/100 + 3*sqrt(31)*I/100], [-11/100 + 3*sqrt(118 - 14*sqrt(31)*I)/100 + 3*sqrt(31)*I/100, -11/100 + 3*sqrt(118 - 14*sqrt(31)*I)/100 + 3*sqrt(31)*I/100, -11/100 - 3*sqrt(118 - 14*sqrt(31)*I)/100 + 3*sqrt(31)*I/100, -11/100 - 3*sqrt(118 - 14*sqrt(31)*I)/100 + 3*sqrt(31)*I/100, 1, -14/25 - 3*sqrt(31)*I/25], [-11/100 + 3*sqrt(118 - 14*sqrt(31)*I)/100 + 3*sqrt(31)*I/100, -11/100 + 3*sqrt(118 - 14*sqrt(31)*I)/100 + 3*sqrt(31)*I/100, -11/100 - 3*sqrt(118 - 14*sqrt(31)*I)/100 + 3*sqrt(31)*I/100, -11/100 - 3*sqrt(118 - 14*sqrt(31)*I)/100 + 3*sqrt(31)*I/100, -14/25 - 3*sqrt(31)*I/25, 1]])\n",
      "\n",
      "Number of points n = 6\n",
      "\n",
      "Number of different permutations of X: 180\n",
      "\n",
      "Rank of X: 3\n",
      "\n",
      "Energy associated to X:\n",
      " -- Symbolic expression: (39/25 + 3*sqrt(31)*I/25)*(111/100 - 3*sqrt(31)*I/100 - 3*sqrt(118 - 14*sqrt(31)*I)/100)**4*(111/100 - 3*sqrt(31)*I/100 + 3*sqrt(118 - 14*sqrt(31)*I)/100)**4*(99/80 - 3*sqrt(226 + 2*sqrt(31)*I)/80 + 3*sqrt(31)*I/80)**2*(99/80 + 3*sqrt(226 + 2*sqrt(31)*I)/80 + 3*sqrt(31)*I/80)**2*(261/200 - 3*sqrt(31)*I/200 - 3*sqrt(118 - 14*sqrt(31)*I)/50)*(261/200 + 3*sqrt(118 - 14*sqrt(31)*I)/50 - 3*sqrt(31)*I/200)\n",
      " -- Numerical evaluation: 5.76694466188143 + 1.13364422247982*I\n"
     ]
    }
   ],
   "source": [
    "A = -sp.Rational(11, 100) - ( 3*sp.sqrt(2) * sp.sqrt( 59 - 7*sp.sqrt(31)*sp.I ) ) / 100 + ( 3 * sp.sqrt(31) * sp.I ) / 100 # x35\n",
    "B = -sp.Rational(14, 25) - ( 3 * sp.sqrt(31) * sp.I ) / 25 # x45\n",
    "C = -sp.Rational(19, 80) - ( 3 * sp.sqrt(31) * sp.I ) / 80 - ( 3 * sp.sqrt(2) * sp.sqrt( 113 + sp.sqrt(31) * sp.I ) ) / 80 # x13\n",
    "\n",
    "X = sp.Matrix( [\n",
    "    [1, 2*A + sp.Rational(3,8)*B + sp.Rational(1,8), C, -C + sp.Rational(5,8)*B - sp.Rational(1,8), -A -sp.Rational(1,2)*B - sp.Rational(1,2), -A - sp.Rational(1,2)*B - sp.Rational(1,2) ],\n",
    "    [0, 1, -C + sp.Rational(5,8)*B - sp.Rational(1,8), C, -A - sp.Rational(1,2)*B - sp.Rational(1,2), -A - sp.Rational(1,2)*B - sp.Rational(1,2) ],\n",
    "    [0, 0, 1, -2*A - sp.Rational(5,8)*B - sp.Rational(7,8), A, A ],\n",
    "    [0, 0, 0, 1, A, A ],\n",
    "    [0, 0, 0, 0, 1, B ],\n",
    "    [0, 0, 0, 0, 0, 1 ]\n",
    "] ) #, dtype='complex' )\n",
    "\n",
    "X = (X + X.T) - sp.eye(6) # symmetric matrix\n",
    "\n",
    "print('\\nConfiguration with coordinate 25*x45^2+28*x45+19=0 (Complex 2)')\n",
    "\n",
    "X = sp.simplify(X)\n",
    "\n",
    "print('\\nMatrix X of dot products:')\n",
    "print(X)\n",
    "\n",
    "orbitSize(X) # orbit size\n",
    "\n",
    "print('\\nRank of X:', X.rank())\n",
    "\n",
    "print('\\nEnergy associated to X:')\n",
    "pE = prodEnergy(X)\n",
    "\n",
    "print(' -- Symbolic expression:', pE )\n",
    "print(' -- Numerical evaluation:', sp.N(pE) )\n",
    "\n",
    "# print('\\nEigenvalues of X:')\n",
    "# eigsX = X.eigenvals() # takes some time\n",
    "\n",
    "# for eX in eigsX:\n",
    "#     print( sp.N(eX) ) # print numeric value\n",
    "\n",
    "# $\\simeq 1.56 + 0.668 i$, $\\simeq 2.61 - 0.167 i$, $\\simeq 1.83 - 0.501 i$\n",
    "\n"
   ]
  },
  {
   "cell_type": "code",
   "execution_count": null,
   "metadata": {},
   "outputs": [],
   "source": []
  },
  {
   "cell_type": "markdown",
   "metadata": {},
   "source": [
    "## Solutions with $rank(X) \\geq 4$"
   ]
  },
  {
   "cell_type": "markdown",
   "metadata": {},
   "source": [
    "## Configuration with $x_{45} = -1/3$ (New 1)"
   ]
  },
  {
   "cell_type": "code",
   "execution_count": 26,
   "metadata": {},
   "outputs": [
    {
     "name": "stdout",
     "output_type": "stream",
     "text": [
      "\n",
      "Configuration with 3*x45+1=0\n",
      "\n",
      "Matrix X of dot products:\n",
      "Matrix([[1, -1/3, 0, 0, -1/3, -1/3], [-1/3, 1, 0, 0, -1/3, -1/3], [0, 0, 1, -1, 0, 0], [0, 0, -1, 1, 0, 0], [-1/3, -1/3, 0, 0, 1, -1/3], [-1/3, -1/3, 0, 0, -1/3, 1]])\n",
      "\n",
      "Number of points n = 6\n",
      "\n",
      "Number of different permutations of X: 15\n",
      "\n",
      "Rank of X: 4\n",
      "\n",
      "Energy associated to X:\n",
      " -- Symbolic expression: 8192/729\n",
      " -- Numerical evaluation: 11.2373113854595\n",
      "\n",
      "Eigenvalues of X:\n",
      "{4/3: 3, 0: 2, 2: 1}\n",
      "\n",
      "Minimal distance between points of X: sqrt(2)\n",
      "-- Numerical value: 1.41421356237310\n"
     ]
    }
   ],
   "source": [
    "# Orbit size = 15\n",
    "\n",
    "A = -sp.Rational(1, 3) # -1/3\n",
    "B = 0\n",
    "C = -1\n",
    "\n",
    "X = sp.Matrix( [\n",
    "    [1, A, B, B, A, A ],\n",
    "    [0, 1, B, B, A, A ],\n",
    "    [0, 0, 1, C, B, B ],\n",
    "    [0, 0, 0, 1, B, B ],\n",
    "    [0, 0, 0, 0, 1, A ],\n",
    "    [0, 0, 0, 0, 0, 1 ]\n",
    "] )\n",
    "\n",
    "X = (X + X.T) - sp.eye(6) # simetriza la matriz\n",
    "\n",
    "print('\\nConfiguration with 3*x45+1=0')\n",
    "\n",
    "print('\\nMatrix X of dot products:')\n",
    "print(X)\n",
    "\n",
    "orbitSize(X) # orbit size\n",
    "\n",
    "print('\\nRank of X:', X.rank())\n",
    "\n",
    "print('\\nEnergy associated to X:')\n",
    "pE = prodEnergy(X)\n",
    "\n",
    "print(' -- Symbolic expression:', pE )\n",
    "print(' -- Numerical evaluation:', sp.N(pE) )\n",
    "\n",
    "print('\\nEigenvalues of X:')\n",
    "eigsX = X.eigenvals()\n",
    "print(eigsX)\n",
    "\n",
    "mD = minDist(X)\n",
    "print('\\nMinimal distance between points of X:', mD )\n",
    "print('-- Numerical value:', sp.N(mD) )\n"
   ]
  },
  {
   "cell_type": "markdown",
   "metadata": {},
   "source": [
    "## Configuration with coordinate $x_{45} = -4/5$ (New 2)\n",
    "\n",
    "Orbit size: 45."
   ]
  },
  {
   "cell_type": "code",
   "execution_count": 27,
   "metadata": {},
   "outputs": [
    {
     "name": "stdout",
     "output_type": "stream",
     "text": [
      "\n",
      "Configuration with coordinate 5*x45+4=0\n",
      "\n",
      "Matrix X of dot products:\n",
      "Matrix([[1, -4/5, -1/5, -1/5, 1/10, 1/10], [-4/5, 1, -1/5, -1/5, 1/10, 1/10], [-1/5, -1/5, 1, -1/5, -1/5, -1/5], [-1/5, -1/5, -1/5, 1, -1/5, -1/5], [1/10, 1/10, -1/5, -1/5, 1, -4/5], [1/10, 1/10, -1/5, -1/5, -4/5, 1]])\n",
      "\n",
      "Number of points n = 6\n",
      "\n",
      "Number of different permutations of X: 45\n",
      "\n",
      "Rank of X: 4\n",
      "\n",
      "Energy associated to X:\n",
      " -- Symbolic expression: 334731302496/30517578125\n",
      " -- Numerical evaluation: 10.9684753201889\n",
      "\n",
      "Eigenvalues of X:\n",
      "{9/5: 2, 6/5: 2, 0: 2}\n",
      "\n",
      "Minimal distance between points of X: 3*sqrt(5)/5\n",
      "-- Numerical value: 1.34164078649987\n"
     ]
    }
   ],
   "source": [
    "A = -sp.Rational(4, 5)\n",
    "B = sp.Rational(1, 10)\n",
    "C = -sp.Rational(1, 5)\n",
    "\n",
    "X = sp.Matrix( [\n",
    "    [1, A, C, C, B, B ],\n",
    "    [0, 1, C, C, B, B ],\n",
    "    [0, 0, 1, C, C, C ],\n",
    "    [0, 0, 0, 1, C, C ],\n",
    "    [0, 0, 0, 0, 1, A ],\n",
    "    [0, 0, 0, 0, 0, 1 ]\n",
    "] )\n",
    "\n",
    "X = (X + X.T) - sp.eye(6) # simetriza la matriz\n",
    "\n",
    "print('\\nConfiguration with coordinate 5*x45+4=0')\n",
    "\n",
    "print('\\nMatrix X of dot products:')\n",
    "print(X)\n",
    "\n",
    "orbitSize(X) # orbit size\n",
    "\n",
    "print('\\nRank of X:', X.rank())\n",
    "\n",
    "print('\\nEnergy associated to X:')\n",
    "pE = prodEnergy(X)\n",
    "\n",
    "print(' -- Symbolic expression:', pE )\n",
    "print(' -- Numerical evaluation:', sp.N(pE) )\n",
    "\n",
    "print('\\nEigenvalues of X:')\n",
    "eigsX = X.eigenvals()\n",
    "print(eigsX)\n",
    "\n",
    "mD = minDist(X)\n",
    "print('\\nMinimal distance between points of X:', mD )\n",
    "print('-- Numerical value:', sp.N(mD) )\n"
   ]
  },
  {
   "cell_type": "markdown",
   "metadata": {},
   "source": [
    "## Configuration with coordinate $x_{45} = 1/25$ (New 3)\n",
    "\n",
    "Orbit size: 60."
   ]
  },
  {
   "cell_type": "code",
   "execution_count": 28,
   "metadata": {},
   "outputs": [
    {
     "name": "stdout",
     "output_type": "stream",
     "text": [
      "\n",
      "Configuration with coordinate 25*x45-1=0\n",
      "\n",
      "Matrix X of dot products:\n",
      "Matrix([[1, 1/25, 1/25, -1/5, 1/25, -23/25], [1/25, 1, -11/25, -1/5, -11/25, 1/25], [1/25, -11/25, 1, -1/5, -11/25, 1/25], [-1/5, -1/5, -1/5, 1, -1/5, -1/5], [1/25, -11/25, -11/25, -1/5, 1, 1/25], [-23/25, 1/25, 1/25, -1/5, 1/25, 1]])\n",
      "\n",
      "Number of points n = 6\n",
      "\n",
      "Number of different permutations of X: 60\n",
      "\n",
      "Rank of X: 4\n",
      "\n",
      "Energy associated to X:\n",
      " -- Symbolic expression: 3327916660110655488/298023223876953125\n",
      " -- Numerical evaluation: 11.1666353273350\n",
      "\n",
      "Eigenvalues of X:\n",
      "{6/5: 1, 48/25: 1, 36/25: 2, 0: 2}\n",
      "\n",
      "Minimal distance between points of X: 4*sqrt(3)/5\n",
      "-- Numerical value: 1.38564064605510\n"
     ]
    }
   ],
   "source": [
    "A = sp.Rational(1, 25)\n",
    "B = -sp.Rational(23, 25)\n",
    "C = -sp.Rational(11, 25)\n",
    "D = -sp.Rational(1, 5)\n",
    "\n",
    "X = sp.Matrix( [\n",
    "    [1, A, A, D, A, B ],\n",
    "    [0, 1, C, D, C, A ],\n",
    "    [0, 0, 1, D, C, A ],\n",
    "    [0, 0, 0, 1, D, D ],\n",
    "    [0, 0, 0, 0, 1, A ],\n",
    "    [0, 0, 0, 0, 0, 1 ]\n",
    "] )\n",
    "\n",
    "X = (X + X.T) - sp.eye(6) # simetriza la matriz\n",
    "\n",
    "print('\\nConfiguration with coordinate 25*x45-1=0')\n",
    "\n",
    "print('\\nMatrix X of dot products:')\n",
    "print(X)\n",
    "\n",
    "orbitSize(X) # orbit size\n",
    "\n",
    "print('\\nRank of X:', X.rank())\n",
    "\n",
    "print('\\nEnergy associated to X:')\n",
    "pE = prodEnergy(X)\n",
    "\n",
    "print(' -- Symbolic expression:', pE )\n",
    "print(' -- Numerical evaluation:', sp.N(pE) )\n",
    "\n",
    "print('\\nEigenvalues of X:')\n",
    "eigsX = X.eigenvals()\n",
    "print(eigsX)\n",
    "\n",
    "mD = minDist(X)\n",
    "print('\\nMinimal distance between points of X:', mD )\n",
    "print('-- Numerical value:', sp.N(mD) )\n"
   ]
  },
  {
   "cell_type": "markdown",
   "metadata": {},
   "source": [
    "## Configuration with coordinate $x_{45} = 0$ (New 4)\n",
    "\n",
    "Orbit size: 10."
   ]
  },
  {
   "cell_type": "code",
   "execution_count": 29,
   "metadata": {},
   "outputs": [
    {
     "name": "stdout",
     "output_type": "stream",
     "text": [
      "\n",
      "Configuration with coordinate x45=0\n",
      "\n",
      "Matrix X of dot products:\n",
      "Matrix([[1, -1/2, 0, 0, 0, -1/2], [-1/2, 1, 0, 0, 0, -1/2], [0, 0, 1, -1/2, -1/2, 0], [0, 0, -1/2, 1, -1/2, 0], [0, 0, -1/2, -1/2, 1, 0], [-1/2, -1/2, 0, 0, 0, 1]])\n",
      "\n",
      "Number of points n = 6\n",
      "\n",
      "Number of different permutations of X: 10\n",
      "\n",
      "Rank of X: 4\n",
      "\n",
      "Energy associated to X:\n",
      " -- Symbolic expression: 729/64\n",
      " -- Numerical evaluation: 11.3906250000000\n",
      "\n",
      "Eigenvalues of X:\n",
      "{3/2: 4, 0: 2}\n",
      "\n",
      "Minimal distance between points of X: sqrt(2)\n",
      "-- Numerical value: 1.41421356237310\n"
     ]
    }
   ],
   "source": [
    "A = -sp.Rational(1, 2)\n",
    "\n",
    "X = sp.Matrix( [\n",
    "    [1, A, 0, 0, 0, A ],\n",
    "    [0, 1, 0, 0, 0, A ],\n",
    "    [0, 0, 1, A, A, 0 ],\n",
    "    [0, 0, 0, 1, A, 0 ],\n",
    "    [0, 0, 0, 0, 1, 0 ],\n",
    "    [0, 0, 0, 0, 0, 1 ],\n",
    "] )\n",
    "\n",
    "X = (X + X.T) - sp.eye(6) # simetriza la matriz\n",
    "\n",
    "print('\\nConfiguration with coordinate x45=0')\n",
    "\n",
    "print('\\nMatrix X of dot products:')\n",
    "print(X)\n",
    "\n",
    "orbitSize(X) # orbit size\n",
    "\n",
    "print('\\nRank of X:', X.rank())\n",
    "\n",
    "print('\\nEnergy associated to X:')\n",
    "pE = prodEnergy(X)\n",
    "\n",
    "print(' -- Symbolic expression:', pE )\n",
    "print(' -- Numerical evaluation:', sp.N(pE) )\n",
    "\n",
    "print('\\nEigenvalues of X:')\n",
    "eigsX = X.eigenvals()\n",
    "print(eigsX)\n",
    "\n",
    "mD = minDist(X)\n",
    "print('\\nMinimal distance between points of X:', mD )\n",
    "print('-- Numerical value:', sp.N(mD) )\n"
   ]
  },
  {
   "cell_type": "code",
   "execution_count": null,
   "metadata": {},
   "outputs": [],
   "source": []
  },
  {
   "cell_type": "markdown",
   "metadata": {},
   "source": [
    "## Regular 5-simplex"
   ]
  },
  {
   "cell_type": "code",
   "execution_count": 30,
   "metadata": {},
   "outputs": [
    {
     "name": "stdout",
     "output_type": "stream",
     "text": [
      "\n",
      "Regular 5-simplex\n",
      "\n",
      "Matrix X of dot products:\n",
      "Matrix([[1, -1/5, -1/5, -1/5, -1/5, -1/5], [-1/5, 1, -1/5, -1/5, -1/5, -1/5], [-1/5, -1/5, 1, -1/5, -1/5, -1/5], [-1/5, -1/5, -1/5, 1, -1/5, -1/5], [-1/5, -1/5, -1/5, -1/5, 1, -1/5], [-1/5, -1/5, -1/5, -1/5, -1/5, 1]])\n",
      "\n",
      "Number of points n = 6\n",
      "\n",
      "Number of different permutations of X: 1\n",
      "\n",
      "Rank of X: 5\n",
      "\n",
      "Energy associated to X:\n",
      " -- Symbolic expression: 470184984576/30517578125\n",
      " -- Numerical evaluation: 15.4070215745864\n",
      "\n",
      "Eigenvalues of X:\n",
      "{6/5: 5, 0: 1}\n",
      "\n",
      "Minimal distance between points of X: 2*sqrt(15)/5\n",
      "-- Numerical value: 1.54919333848297\n"
     ]
    }
   ],
   "source": [
    "A = -sp.Rational(1, 5)\n",
    "\n",
    "X = sp.Matrix( [\n",
    "    [1, A, A, A, A, A ],\n",
    "    [0, 1, A, A, A, A ],\n",
    "    [0, 0, 1, A, A, A ],\n",
    "    [0, 0, 0, 1, A, A ],\n",
    "    [0, 0, 0, 0, 1, A ],\n",
    "    [0, 0, 0, 0, 0, 1 ],\n",
    "] )\n",
    "\n",
    "X = (X + X.T) - sp.eye(6) # simetriza la matriz\n",
    "\n",
    "print('\\nRegular 5-simplex')\n",
    "\n",
    "print('\\nMatrix X of dot products:')\n",
    "print(X)\n",
    "\n",
    "orbitSize(X) # orbit size\n",
    "\n",
    "print('\\nRank of X:', X.rank())\n",
    "\n",
    "print('\\nEnergy associated to X:')\n",
    "pE = prodEnergy(X)\n",
    "\n",
    "print(' -- Symbolic expression:', pE )\n",
    "print(' -- Numerical evaluation:', sp.N(pE) )\n",
    "\n",
    "print('\\nEigenvalues of X:')\n",
    "eigsX = X.eigenvals()\n",
    "print(eigsX)\n",
    "\n",
    "mD = minDist(X)\n",
    "print('\\nMinimal distance between points of X:', mD )\n",
    "print('-- Numerical value:', sp.N(mD) )\n"
   ]
  },
  {
   "cell_type": "code",
   "execution_count": null,
   "metadata": {},
   "outputs": [],
   "source": []
  }
 ],
 "metadata": {
  "kernelspec": {
   "display_name": "Python 3 (ipykernel)",
   "language": "python",
   "name": "python3"
  },
  "language_info": {
   "codemirror_mode": {
    "name": "ipython",
    "version": 3
   },
   "file_extension": ".py",
   "mimetype": "text/x-python",
   "name": "python",
   "nbconvert_exporter": "python",
   "pygments_lexer": "ipython3",
   "version": "3.11.2"
  }
 },
 "nbformat": 4,
 "nbformat_minor": 4
}

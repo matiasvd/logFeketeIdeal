{
 "cells": [
  {
   "cell_type": "markdown",
   "id": "c0701f02",
   "metadata": {},
   "source": [
    "# Matrix $W$ from matrix $X$: $X=W W^T$\n",
    "\n",
    "12/2024\n",
    "\n",
    "I. Given $X \\in \\mathbb{R}^{n \\times n}$ of rank $r$, real, symmetric and positive-semidefinite:\n",
    "\n",
    "1. find a (reduced) eigen-decomposition of $X$: $X = Q D Q^T$; $D \\in \\mathbb{R}^{r \\times r}$ diagonal with non null eigenvalues, $Q \\in \\mathbb{R}^{n \\times r}$ with orthonormal basis of eigenvectors as columns.\n",
    "2. take $W = Q \\sqrt{D} \\in \\mathbb{R}^{n \\times r}$.\n",
    "\n",
    "Row $i$ of $W$ represents the coordinates of a point $w_i$ on the sphere $S^{r-1} \\subset \\mathbb{R}^r$.\n",
    "\n",
    "The basis of eigenvectors is orthonormalized using the $QR$ factorization."
   ]
  },
  {
   "cell_type": "code",
   "execution_count": 1,
   "id": "a3912554",
   "metadata": {},
   "outputs": [],
   "source": [
    "# import sympy as sp\n",
    "\n",
    "%run WfromX.py # load function\n"
   ]
  },
  {
   "cell_type": "markdown",
   "id": "13edbfa2",
   "metadata": {},
   "source": [
    "## Configuration with $x_{45} = -1/3$ (New 1)"
   ]
  },
  {
   "cell_type": "code",
   "execution_count": 3,
   "id": "ae28aae9",
   "metadata": {},
   "outputs": [
    {
     "name": "stdout",
     "output_type": "stream",
     "text": [
      "\n",
      "X = \n",
      "⎡ 1    -1/3  0   0   -1/3  -1/3⎤\n",
      "⎢                              ⎥\n",
      "⎢-1/3   1    0   0   -1/3  -1/3⎥\n",
      "⎢                              ⎥\n",
      "⎢ 0     0    1   -1   0     0  ⎥\n",
      "⎢                              ⎥\n",
      "⎢ 0     0    -1  1    0     0  ⎥\n",
      "⎢                              ⎥\n",
      "⎢-1/3  -1/3  0   0    1    -1/3⎥\n",
      "⎢                              ⎥\n",
      "⎣-1/3  -1/3  0   0   -1/3   1  ⎦\n",
      "\n",
      "Constructing W from X...\n",
      "\n",
      "Matrix W of coordinates on the sphere:\n",
      "⎡-√6   -√2           ⎤\n",
      "⎢────  ────  -1/3  0 ⎥\n",
      "⎢ 3     3            ⎥\n",
      "⎢                    ⎥\n",
      "⎢ √6   -√2           ⎥\n",
      "⎢ ──   ────  -1/3  0 ⎥\n",
      "⎢ 3     3            ⎥\n",
      "⎢                    ⎥\n",
      "⎢ 0     0     0    -1⎥\n",
      "⎢                    ⎥\n",
      "⎢ 0     0     0    1 ⎥\n",
      "⎢                    ⎥\n",
      "⎢      2⋅√2          ⎥\n",
      "⎢ 0    ────  -1/3  0 ⎥\n",
      "⎢       3            ⎥\n",
      "⎢                    ⎥\n",
      "⎣ 0     0     1    0 ⎦\n",
      "\n",
      "X == W * W.T?: True\n"
     ]
    }
   ],
   "source": [
    "A = -sp.Rational(1,3) # -1/3\n",
    "B = 0\n",
    "C = -1\n",
    "\n",
    "# dot product matrix X\n",
    "X = sp.Matrix( [\n",
    "\t[1, A, B, B, A, A ],\n",
    "\t[0, 1, B, B, A, A ],\n",
    "\t[0, 0, 1, C, B, B ],\n",
    "\t[0, 0, 0, 1, B, B ],\n",
    "\t[0, 0, 0, 0, 1, A ],\n",
    "\t[0, 0, 0, 0, 0, 1 ],\n",
    "] )\n",
    "\n",
    "n, n = sp.shape(X) # size of matrix\n",
    "print('\\nX = ')\n",
    "\n",
    "X = (X + X.T) - sp.eye(n) # symmetric\n",
    "\n",
    "sp.pprint(X)\n",
    "\n",
    "# print('\\n')\n",
    "# print( sp.latex(X) )\n",
    "\n",
    "d = X.rank()\n",
    "W = WfromX(X, d) # matrix of coordinates on the sphere\n"
   ]
  },
  {
   "cell_type": "markdown",
   "id": "c1f16887-a9b6-4d00-bcbd-6721b5310b01",
   "metadata": {},
   "source": [
    "## Configuration with coordinate $x_{45} = -4/5$ (New 2)"
   ]
  },
  {
   "cell_type": "code",
   "execution_count": 4,
   "id": "0d3d7c10-37c2-4d22-bae7-c90336bc21ca",
   "metadata": {},
   "outputs": [
    {
     "name": "stdout",
     "output_type": "stream",
     "text": [
      "\n",
      "X = \n",
      "\n",
      "Constructing W from X...\n",
      "\n",
      "Matrix W of coordinates on the sphere:\n",
      "⎡        √10   -3⋅√10          ⎤\n",
      "⎢  0     ───   ───────     0   ⎥\n",
      "⎢        10      10            ⎥\n",
      "⎢                              ⎥\n",
      "⎢        √10    3⋅√10          ⎥\n",
      "⎢  0     ───    ─────      0   ⎥\n",
      "⎢        10      10            ⎥\n",
      "⎢                              ⎥\n",
      "⎢-√15   -√10                   ⎥\n",
      "⎢─────  ─────     0        0   ⎥\n",
      "⎢  5      5                    ⎥\n",
      "⎢                              ⎥\n",
      "⎢ √15   -√10                   ⎥\n",
      "⎢ ───   ─────     0        0   ⎥\n",
      "⎢  5      5                    ⎥\n",
      "⎢                              ⎥\n",
      "⎢        √10            -3⋅√10 ⎥\n",
      "⎢  0     ───      0     ───────⎥\n",
      "⎢        10               10   ⎥\n",
      "⎢                              ⎥\n",
      "⎢        √10             3⋅√10 ⎥\n",
      "⎢  0     ───      0      ───── ⎥\n",
      "⎣        10               10   ⎦\n",
      "\n",
      "X == W * W.T?: True\n"
     ]
    }
   ],
   "source": [
    "A = -sp.Rational(4, 5)\n",
    "B = sp.Rational(1, 10)\n",
    "C = -sp.Rational(1, 5)\n",
    "\n",
    "X = sp.Matrix( [\n",
    "    [1, A, C, C, B, B ],\n",
    "    [0, 1, C, C, B, B ],\n",
    "    [0, 0, 1, C, C, C ],\n",
    "    [0, 0, 0, 1, C, C ],\n",
    "    [0, 0, 0, 0, 1, A ],\n",
    "    [0, 0, 0, 0, 0, 1 ]\n",
    "] )\n",
    "\n",
    "n,n = sp.shape(X) # size of matrix\n",
    "print('\\nX = ')\n",
    "\n",
    "X = (X + X.T) - sp.eye(n) # simetriza la matriz\n",
    "\n",
    "d = X.rank()\n",
    "W = WfromX(X, d) # matrix of coordinates on the sphere\n"
   ]
  },
  {
   "cell_type": "markdown",
   "id": "fa49440b-90f9-416b-9b8c-cc170b694dd3",
   "metadata": {},
   "source": [
    "## Configuration with coordinate $x_{45} = 1/25$ (New 3)"
   ]
  },
  {
   "cell_type": "code",
   "execution_count": 5,
   "id": "5990fef7-b8c5-4ebc-b9d8-c165f7d44560",
   "metadata": {},
   "outputs": [
    {
     "name": "stdout",
     "output_type": "stream",
     "text": [
      "\n",
      "X = \n",
      "\n",
      "Constructing W from X...\n",
      "\n",
      "Matrix W of coordinates on the sphere:\n",
      "⎡                   -2⋅√6 ⎤\n",
      "⎢1/5    0      0    ──────⎥\n",
      "⎢                     5   ⎥\n",
      "⎢                         ⎥\n",
      "⎢     -3⋅√2   -√6         ⎥\n",
      "⎢1/5  ──────  ────    0   ⎥\n",
      "⎢       5      5          ⎥\n",
      "⎢                         ⎥\n",
      "⎢      3⋅√2   -√6         ⎥\n",
      "⎢1/5   ────   ────    0   ⎥\n",
      "⎢       5      5          ⎥\n",
      "⎢                         ⎥\n",
      "⎢-1     0      0      0   ⎥\n",
      "⎢                         ⎥\n",
      "⎢             2⋅√6        ⎥\n",
      "⎢1/5    0     ────    0   ⎥\n",
      "⎢              5          ⎥\n",
      "⎢                         ⎥\n",
      "⎢                    2⋅√6 ⎥\n",
      "⎢1/5    0      0     ──── ⎥\n",
      "⎣                     5   ⎦\n",
      "\n",
      "X == W * W.T?: True\n"
     ]
    }
   ],
   "source": [
    "A = sp.Rational(1, 25)\n",
    "B = -sp.Rational(23, 25)\n",
    "C = -sp.Rational(11, 25)\n",
    "D = -sp.Rational(1, 5)\n",
    "\n",
    "X = sp.Matrix( [\n",
    "    [1, A, A, D, A, B ],\n",
    "    [0, 1, C, D, C, A ],\n",
    "    [0, 0, 1, D, C, A ],\n",
    "    [0, 0, 0, 1, D, D ],\n",
    "    [0, 0, 0, 0, 1, A ],\n",
    "    [0, 0, 0, 0, 0, 1 ]\n",
    "] )\n",
    "\n",
    "n,n = sp.shape(X) # size of matrix\n",
    "print('\\nX = ')\n",
    "\n",
    "X = (X + X.T) - sp.eye(n) # simetriza la matriz\n",
    "\n",
    "d = X.rank()\n",
    "W = WfromX(X, d) # matrix of coordinates on the sphere\n"
   ]
  },
  {
   "cell_type": "markdown",
   "id": "a7b9fd77-a8d3-4555-955f-c4474d3754eb",
   "metadata": {},
   "source": [
    "## Configuration with coordinate $x_{45} = 0$ (New 4)"
   ]
  },
  {
   "cell_type": "code",
   "execution_count": 6,
   "id": "614bfa99-16bf-46db-bd5d-ae7043627c5b",
   "metadata": {},
   "outputs": [
    {
     "name": "stdout",
     "output_type": "stream",
     "text": [
      "\n",
      "X = \n",
      "\n",
      "Constructing W from X...\n",
      "\n",
      "Matrix W of coordinates on the sphere:\n",
      "⎡-√3                   ⎤\n",
      "⎢────   0     0    -1/2⎥\n",
      "⎢ 2                    ⎥\n",
      "⎢                      ⎥\n",
      "⎢ √3                   ⎥\n",
      "⎢ ──    0     0    -1/2⎥\n",
      "⎢ 2                    ⎥\n",
      "⎢                      ⎥\n",
      "⎢      -√3             ⎥\n",
      "⎢ 0    ────  -1/2   0  ⎥\n",
      "⎢       2              ⎥\n",
      "⎢                      ⎥\n",
      "⎢       √3             ⎥\n",
      "⎢ 0     ──   -1/2   0  ⎥\n",
      "⎢       2              ⎥\n",
      "⎢                      ⎥\n",
      "⎢ 0     0     1     0  ⎥\n",
      "⎢                      ⎥\n",
      "⎣ 0     0     0     1  ⎦\n",
      "\n",
      "X == W * W.T?: True\n"
     ]
    }
   ],
   "source": [
    "A = -sp.Rational(1, 2)\n",
    "\n",
    "X = sp.Matrix( [\n",
    "    [1, A, 0, 0, 0, A ],\n",
    "    [0, 1, 0, 0, 0, A ],\n",
    "    [0, 0, 1, A, A, 0 ],\n",
    "    [0, 0, 0, 1, A, 0 ],\n",
    "    [0, 0, 0, 0, 1, 0 ],\n",
    "    [0, 0, 0, 0, 0, 1 ],\n",
    "] )\n",
    "\n",
    "n,n = sp.shape(X) # size of matrix\n",
    "print('\\nX = ')\n",
    "\n",
    "X = (X + X.T) - sp.eye(n) # simetriza la matriz\n",
    "\n",
    "d = X.rank()\n",
    "W = WfromX(X, d) # matrix of coordinates on the sphere\n"
   ]
  },
  {
   "cell_type": "markdown",
   "id": "3faa0ef7-543c-438d-8cbb-68c1dc3406b7",
   "metadata": {},
   "source": [
    "## Regular 5-simplex"
   ]
  },
  {
   "cell_type": "code",
   "execution_count": 7,
   "id": "f08e2766-0f1f-4864-ae5e-d7d17c039540",
   "metadata": {},
   "outputs": [
    {
     "name": "stdout",
     "output_type": "stream",
     "text": [
      "\n",
      "X = \n",
      "\n",
      "Constructing W from X...\n",
      "\n",
      "Matrix W of coordinates on the sphere:\n",
      "⎡-√15   -√5   -√10   -√6       ⎤\n",
      "⎢─────  ────  ─────  ────  -1/5⎥\n",
      "⎢  5     5     10     10       ⎥\n",
      "⎢                              ⎥\n",
      "⎢ √15   -√5   -√10   -√6       ⎥\n",
      "⎢ ───   ────  ─────  ────  -1/5⎥\n",
      "⎢  5     5     10     10       ⎥\n",
      "⎢                              ⎥\n",
      "⎢       2⋅√5  -√10   -√6       ⎥\n",
      "⎢  0    ────  ─────  ────  -1/5⎥\n",
      "⎢        5     10     10       ⎥\n",
      "⎢                              ⎥\n",
      "⎢             3⋅√10  -√6       ⎥\n",
      "⎢  0     0    ─────  ────  -1/5⎥\n",
      "⎢              10     10       ⎥\n",
      "⎢                              ⎥\n",
      "⎢                    2⋅√6      ⎥\n",
      "⎢  0     0      0    ────  -1/5⎥\n",
      "⎢                     5        ⎥\n",
      "⎢                              ⎥\n",
      "⎣  0     0      0     0     1  ⎦\n",
      "\n",
      "X == W * W.T?: True\n"
     ]
    }
   ],
   "source": [
    "A = -sp.Rational(1, 5)\n",
    "\n",
    "X = sp.Matrix( [\n",
    "    [1, A, A, A, A, A ],\n",
    "    [0, 1, A, A, A, A ],\n",
    "    [0, 0, 1, A, A, A ],\n",
    "    [0, 0, 0, 1, A, A ],\n",
    "    [0, 0, 0, 0, 1, A ],\n",
    "    [0, 0, 0, 0, 0, 1 ],\n",
    "] )\n",
    "\n",
    "n,n = sp.shape(X) # size of matrix\n",
    "print('\\nX = ')\n",
    "\n",
    "X = (X + X.T) - sp.eye(n) # simetriza la matriz\n",
    "\n",
    "d = X.rank()\n",
    "W = WfromX(X, d) # matrix of coordinates on the sphere\n"
   ]
  },
  {
   "cell_type": "code",
   "execution_count": null,
   "id": "ec3b2868-6a59-4d21-abcf-476ebbbedff7",
   "metadata": {},
   "outputs": [],
   "source": []
  },
  {
   "cell_type": "markdown",
   "id": "bb1e59b8",
   "metadata": {},
   "source": [
    "### Verifies that the points $w_i$ have null Lagrangian gradient\n",
    "\n",
    "$$ L(w,\\lambda) = - \\sum_{1 \\leq i<j \\leq n} \\log \\left( \\|w_i-w_j\\|_2^2 \\right) + \\sum_{i=1}^n \\lambda_i \\left( \\| w_i \\|_2^2 - 1 \\right) .$$\n",
    "\n",
    "$$ \\nabla_{w_i} L = - \\sum_{j \\neq i, j=1}^n \\frac{2(w_i-w_j)}{\\|w_i-w_j\\|_2^2} + 2 \\lambda_i w_i = \\vec{0}, \\ \\forall \\ i .$$\n",
    "\n",
    "Taking dot product with $w_i$:\n",
    "\n",
    "$$ 0 = - \\sum_{j \\neq i, j=1}^n \\frac{2(1-w_i^T w_j)}{\\|w_i-w_j\\|_2^2} + 2 \\lambda_i = 0 \\Leftrightarrow \\lambda_i = \\sum_{j \\neq i, j=1}^n \\frac{1-w_i^T w_j}{\\|w_i-w_j\\|_2^2} = \\frac{n-1}{2}, \\ \\forall \\ i .$$\n",
    "\n",
    "Then:\n",
    "$$ \\nabla_{w_i} L = - \\sum_{j \\neq i, j=1}^n \\frac{2(w_i-w_j)}{\\|w_i-w_j\\|_2^2} + 2 \\left( \\frac{n-1}{2} \\right) w_i = \\vec{0}, \\ \\forall \\ i .$$\n"
   ]
  },
  {
   "cell_type": "code",
   "execution_count": 9,
   "id": "78f7e31a",
   "metadata": {},
   "outputs": [
    {
     "name": "stdout",
     "output_type": "stream",
     "text": [
      "\n",
      "Point number i = 0\n",
      "\n",
      "Gradient at wi: Matrix([[-1.66533453693773e-16*sqrt(15), -5.55111512312578e-17*sqrt(5), -2.77555756156289e-17*sqrt(10), 1.38777878078145e-17*sqrt(6), 0]])\n",
      "\n",
      "Point number i = 1\n",
      "\n",
      "Gradient at wi: Matrix([[1.66533453693773e-16*sqrt(15), -5.55111512312578e-17*sqrt(5), -2.77555756156289e-17*sqrt(10), 1.38777878078145e-17*sqrt(6), 0]])\n",
      "\n",
      "Point number i = 2\n",
      "\n",
      "Gradient at wi: Matrix([[0, 1.11022302462516e-16*sqrt(5), -2.77555756156289e-17*sqrt(10), 1.38777878078145e-17*sqrt(6), 0]])\n",
      "\n",
      "Point number i = 3\n",
      "\n",
      "Gradient at wi: Matrix([[0, 0, 2.22044604925031e-16*sqrt(10), 1.38777878078145e-17*sqrt(6), 0]])\n",
      "\n",
      "Point number i = 4\n",
      "\n",
      "Gradient at wi: Matrix([[0, 0, 0, -2.22044604925031e-16*sqrt(6), 0]])\n",
      "\n",
      "Point number i = 5\n",
      "\n",
      "Gradient at wi: Matrix([[0, 0, 0, 0, 0]])\n"
     ]
    }
   ],
   "source": [
    "################\n",
    "# Gradient of the lagrangian with respect to variables w_i\n",
    "# w_i is row i of matrix W\n",
    "################\n",
    "def grad_lag_1(W):\n",
    "    n = len(W[:,0]) # number of rows of W (points on the sphere)\n",
    "    \n",
    "    for i in range(n): # each row of W\n",
    "        wi = W[i,:] # point wi  \n",
    "        gradL = 2 * ( (n-1)/2 ) * wi\n",
    "        \n",
    "        for j in range(i): # points wj, 0<=j<i\n",
    "            wj = W[j,:] # point wj\n",
    "            \n",
    "            wiwj = (wi @ wj.T)[0] # dot product\n",
    "            gradL = gradL - 2 * ( wi - wj ) / ( 2 * (1 - wiwj) )\n",
    "        \n",
    "        for j in range(i+1,n): # points wj, i<j<=n-1\n",
    "            wj = W[j,:] # point wj\n",
    "            \n",
    "            wiwj = (wi @ wj.T)[0] # dot product\n",
    "            gradL = gradL - 2 * ( wi - wj ) / ( 2 * (1 - wiwj) )\n",
    "    \n",
    "        print('\\nPoint number i =', i)\n",
    "        print('\\nGradient at wi:', sp.simplify(gradL) )\n",
    "\n",
    "grad_lag_1(W)\n",
    "\n"
   ]
  },
  {
   "cell_type": "code",
   "execution_count": null,
   "id": "76dd1b05",
   "metadata": {},
   "outputs": [],
   "source": []
  }
 ],
 "metadata": {
  "kernelspec": {
   "display_name": "Python 3 (ipykernel)",
   "language": "python",
   "name": "python3"
  },
  "language_info": {
   "codemirror_mode": {
    "name": "ipython",
    "version": 3
   },
   "file_extension": ".py",
   "mimetype": "text/x-python",
   "name": "python",
   "nbconvert_exporter": "python",
   "pygments_lexer": "ipython3",
   "version": "3.11.2"
  }
 },
 "nbformat": 4,
 "nbformat_minor": 5
}
